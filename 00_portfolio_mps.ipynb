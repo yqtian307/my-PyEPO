{
 "cells": [
  {
   "cell_type": "code",
   "execution_count": 1,
   "id": "12f8ad90",
   "metadata": {},
   "outputs": [
    {
     "name": "stdout",
     "output_type": "stream",
     "text": [
      "Using device: mps\n",
      "Using Apple Silicon GPU via Metal Performance Shaders (MPS)\n"
     ]
    },
    {
     "name": "stderr",
     "output_type": "stream",
     "text": [
      "/Users/tarothousand/Library/Python/3.11/lib/python/site-packages/tqdm/auto.py:21: TqdmWarning: IProgress not found. Please update jupyter and ipywidgets. See https://ipywidgets.readthedocs.io/en/stable/user_install.html\n",
      "  from .autonotebook import tqdm as notebook_tqdm\n"
     ]
    }
   ],
   "source": [
    "#############################################################################\n",
    "# IMPORTS AND SETUP\n",
    "#############################################################################\n",
    "# Set random seed for reproducibility\n",
    "import random\n",
    "random.seed(42)\n",
    "import numpy as np\n",
    "np.random.seed(42)\n",
    "import torch\n",
    "torch.manual_seed(42)\n",
    "torch.cuda.manual_seed(42)\n",
    "torch.backends.cudnn.deterministic = True  # Makes training more deterministic\n",
    "torch.backends.cudnn.benchmark = False     # Can speed up training when input sizes don't change\n",
    "\n",
    "# Standard imports\n",
    "import pandas as pd\n",
    "import numpy as np\n",
    "import polars as pl\n",
    "from datetime import datetime, timedelta\n",
    "import time\n",
    "import os\n",
    "\n",
    "from tqdm.auto import tqdm  # Progress bar\n",
    "\n",
    "\n",
    "# Check and set up GPU (support MPS on Mac)\n",
    "if torch.backends.mps.is_available():\n",
    "    device = torch.device(\"mps\")\n",
    "elif torch.cuda.is_available():\n",
    "    device = torch.device(\"cuda\")\n",
    "else:\n",
    "    device = torch.device(\"cpu\")\n",
    "\n",
    "print(f\"Using device: {device}\")\n",
    "\n",
    "# Print extra info\n",
    "if device.type == \"cuda\":\n",
    "    print(f\"GPU: {torch.cuda.get_device_name(0)}\")\n",
    "    torch.cuda.empty_cache()\n",
    "elif device.type == \"mps\":\n",
    "    print(\"Using Apple Silicon GPU via Metal Performance Shaders (MPS)\")\n",
    "\n",
    "\n",
    "# ##### 强制使用CPU\n",
    "# # os.environ[\"CUDA_VISIBLE_DEVICES\"] = \"-1\"\n",
    "\n",
    "# device = torch.device(\"cpu\")\n",
    "# # Force JAX to use the CPU backend only (avoids CUDA OOM in JAX)\n",
    "# os.environ['JAX_PLATFORMS'] = 'cpu'"
   ]
  },
  {
   "cell_type": "code",
   "execution_count": 2,
   "id": "8f1cf200",
   "metadata": {},
   "outputs": [],
   "source": [
    "%load_ext autoreload\n",
    "%autoreload 2\n",
    "\n",
    "import time\n",
    "import numpy as np\n",
    "import pandas as pd\n",
    "\n",
    "# PyEPO imports\n",
    "from pyepo.data.dataset import optDataset\n",
    "\n",
    "# Gurobi\n",
    "import gurobipy as gp\n",
    "from gurobipy import GRB\n",
    "from pyepo.model.grb import optGrbModel\n",
    "\n",
    "# Pyomo\n",
    "from pyomo import environ as pe\n",
    "from pyepo.model.omo import optOmoModel # 记得要把 omo 文件夹里的 __init__.py 文件也修改了\n",
    "from pyepo import EPO\n",
    "\n",
    "# COPTPy\n",
    "from coptpy import Envr, COPT\n",
    "from pyepo.model.copt import optCoptModel\n",
    "\n",
    "# MPAX\n",
    "from pyepo.model.mpax import optMpaxModel"
   ]
  },
  {
   "cell_type": "markdown",
   "id": "1b7bfe9c",
   "metadata": {},
   "source": [
    "# Training and Testing\n"
   ]
  },
  {
   "cell_type": "markdown",
   "id": "cc8c968f",
   "metadata": {},
   "source": [
    "## 随机生成横截面xy数据"
   ]
  },
  {
   "cell_type": "code",
   "execution_count": 3,
   "id": "5fb8bffc",
   "metadata": {},
   "outputs": [
    {
     "name": "stdout",
     "output_type": "stream",
     "text": [
      "Generating random data...\n"
     ]
    }
   ],
   "source": [
    "#############################################################################\n",
    "# DATA PREPARATION\n",
    "#############################################################################\n",
    "print(\"Generating random data...\")\n",
    "\n",
    "# Setting parameters\n",
    "k = 5  # number of x features\n",
    "m = 3  # number of y features\n",
    "N_symbol = 100  # Number of symbols to generate\n",
    "\n",
    "# Generate symbols: s1, s2, ..., s100\n",
    "symbols = [f's{i}' for i in range(1, N_symbol + 1)]\n",
    "\n",
    "# Generate time range: minutes from 2025-04-01 to 2025-04-01 01:59\n",
    "start_time = datetime(2025, 4, 1)\n",
    "end_time = datetime(2025, 4, 1, 1, 59)\n",
    "minutes_diff = int((end_time - start_time).total_seconds() / 60) + 1\n",
    "time_range = [start_time + timedelta(minutes=i) for i in range(minutes_diff)]\n",
    "\n",
    "# Create empty dataframe with desired columns\n",
    "columns = ['time', 'symbol'] + [f'x{i+1}' for i in range(k)] + [f'y{i+1}' for i in range(m)]\n",
    "data = []\n",
    "\n",
    "# Generate random data\n",
    "for time in time_range:\n",
    "    for symbol in symbols:\n",
    "        # Generate white noise for each x and y\n",
    "        x_values = np.random.normal(0, 1, k)\n",
    "        y_values = np.random.normal(0, 1, m)\n",
    "        \n",
    "        # Combine all values into a row\n",
    "        row = [time, symbol] + list(x_values) + list(y_values)\n",
    "        data.append(row)\n",
    "\n",
    "# Create DataFrame\n",
    "# df = pd.DataFrame(data, columns=columns)\n",
    "df = pl.DataFrame(data, schema=[(col, pl.Datetime if col == 'time' else pl.Utf8 if col == 'symbol' else pl.Float64) \n",
    "                                     for col in columns])\n",
    "\n",
    "# Optional: Save to CSV\n",
    "# df.to_csv(\"random_data.csv\", index=False)"
   ]
  },
  {
   "cell_type": "code",
   "execution_count": 4,
   "id": "e18452b1",
   "metadata": {},
   "outputs": [],
   "source": [
    "# 存储df为.parquet文件\n",
    "df.write_parquet(\"data_sample.parquet\")"
   ]
  },
  {
   "cell_type": "code",
   "execution_count": 5,
   "id": "a97bc6fd",
   "metadata": {},
   "outputs": [
    {
     "name": "stdout",
     "output_type": "stream",
     "text": [
      "Data shape: features (120, 100, 5), costs (120, 100)\n",
      "Training set: (50, 100, 5), Test set: (70, 100, 5)\n"
     ]
    }
   ],
   "source": [
    "y_col = 'y1'  # Specify the y column to be used for costs\n",
    "\n",
    "# 1. Find all x columns\n",
    "x_cols = [c for c in df.columns if c.startswith(\"x\")]\n",
    "\n",
    "# 2. Pivot costs matrix: shape (T, N)\n",
    "cost_pivot = (\n",
    "    df\n",
    "    .pivot(\n",
    "        values=y_col,\n",
    "        index=\"time\",\n",
    "        columns=\"symbol\",\n",
    "        aggregate_function=\"first\",   # Ensure only one value per (time, symbol) pair\n",
    "    )\n",
    "    .sort(\"time\")                     # Sort by time\n",
    "    .fill_null(0)                     # Fill missing values with 0\n",
    ")\n",
    "# Extract time and symbol information\n",
    "unique_times = cost_pivot[\"time\"].to_list()\n",
    "unique_symbols = cost_pivot.columns[1:]    # All columns except 'time' are symbols\n",
    "\n",
    "# Convert to numpy for PyTorch compatibility\n",
    "costs = cost_pivot.select(unique_symbols).to_numpy()\n",
    "\n",
    "# 3. Pivot each feature (x) and stack into a 3D tensor (T, N, k)\n",
    "feature_mats = []\n",
    "for x in x_cols:\n",
    "    mat = (\n",
    "        df\n",
    "        .pivot(\n",
    "            values=x,\n",
    "            index=\"time\",\n",
    "            columns=\"symbol\",\n",
    "            aggregate_function=\"first\",\n",
    "        )\n",
    "        .sort(\"time\")\n",
    "        .fill_null(0)\n",
    "        .select(unique_symbols)\n",
    "        .to_numpy()\n",
    "    )\n",
    "    feature_mats.append(mat)\n",
    "# Stack along the third dimension to create (T, N, k) tensor\n",
    "features = np.stack(feature_mats, axis=2)  # (T, N, k)\n",
    "\n",
    "print(f\"Data shape: features {features.shape}, costs {costs.shape}\")\n",
    "\n",
    "#############################################################################\n",
    "# TRAIN-TEST SPLIT\n",
    "#############################################################################\n",
    "from sklearn.model_selection import train_test_split\n",
    "x_train, x_test, c_train, c_test = train_test_split(features, costs, test_size=70, random_state=42)\n",
    "print(f\"Training set: {x_train.shape}, Test set: {x_test.shape}\")"
   ]
  },
  {
   "cell_type": "code",
   "execution_count": 6,
   "id": "9efbd7d7",
   "metadata": {},
   "outputs": [
    {
     "name": "stdout",
     "output_type": "stream",
     "text": [
      "Restricted license - for non-production use only - expires 2026-11-23\n",
      "Optimizing for optDataset...\n"
     ]
    },
    {
     "name": "stderr",
     "output_type": "stream",
     "text": [
      "100%|██████████| 50/50 [00:00<00:00, 108.03it/s]"
     ]
    },
    {
     "name": "stdout",
     "output_type": "stream",
     "text": [
      "Optimizing for optDataset...\n"
     ]
    },
    {
     "name": "stderr",
     "output_type": "stream",
     "text": [
      "\n",
      "100%|██████████| 70/70 [00:00<00:00, 113.55it/s]\n"
     ]
    }
   ],
   "source": [
    "#############################################################################\n",
    "# OPTIMIZATION PROBLEM PARAMETERS\n",
    "#############################################################################\n",
    "# Market neutral optimization model parameters from opt_time_compare.py\n",
    "N = features.shape[1]  # Number of assets, updated from data\n",
    "A = np.ones((1, N))\n",
    "b = np.array([1.0])\n",
    "l = np.zeros(N)\n",
    "u = np.zeros(N) + 1e6\n",
    "\n",
    "# Generate random positive definite covariance matrix\n",
    "M = np.random.randn(N, N)\n",
    "cov_matrix = M.T @ M + np.eye(N) * 1e-3\n",
    "\n",
    "# Risk and constraint parameters\n",
    "risk_f     = np.random.randn(N)\n",
    "risk_abs   = 1.5\n",
    "single_abs = 0.1\n",
    "l1_abs     = 1.0\n",
    "sigma_abs  = 2.5\n",
    "\n",
    "\n",
    "#############################################################################\n",
    "# MARKET NEUTRAL OPTIMIZATION MODEL\n",
    "#############################################################################\n",
    "class MarketNeutralGrbModel(optGrbModel):\n",
    "    def __init__(\n",
    "        self,\n",
    "        N,\n",
    "        A,\n",
    "        b,\n",
    "        l,\n",
    "        u,\n",
    "        minimize=False,\n",
    "        risk_f=None,\n",
    "        risk_abs=None,\n",
    "        single_abs=None,\n",
    "        l1_abs=None,\n",
    "        cov_matrix=None,\n",
    "        sigma_abs=None\n",
    "    ):\n",
    "        # 保存所有参数\n",
    "        self.N = N\n",
    "        self.A = A\n",
    "        self.b = b\n",
    "        self.l = l\n",
    "        self.u = u\n",
    "        self.minimize = minimize\n",
    "        self.risk_f = risk_f\n",
    "        self.risk_abs = risk_abs\n",
    "        self.single_abs = single_abs\n",
    "        self.l1_abs = l1_abs\n",
    "        self.cov_matrix = cov_matrix\n",
    "        self.sigma_abs = sigma_abs\n",
    "\n",
    "        super().__init__()\n",
    "\n",
    "    def _getModel(self):\n",
    "        # 新建 Gurobi 模型\n",
    "        m = gp.Model()\n",
    "\n",
    "        # 添加原始变量 x[i]\n",
    "        x = m.addVars(\n",
    "            self.N,\n",
    "            lb={i: float(self.l[i]) for i in range(self.N)},\n",
    "            ub={i: float(self.u[i]) for i in range(self.N)},\n",
    "            name=\"x\"\n",
    "        )\n",
    "\n",
    "        # 用于 L1 约束的辅助变量 t[i]\n",
    "        t = m.addVars(self.N, lb=0.0, name=\"t\")\n",
    "\n",
    "        # 设置优化方向\n",
    "        m.modelSense = GRB.MINIMIZE if self.minimize else GRB.MAXIMIZE\n",
    "\n",
    "        # ——— 1) 市场中性约束 sum A[0,i] * x[i] == b[0]\n",
    "        m.addConstr(\n",
    "            gp.quicksum(self.A[0, i] * x[i] for i in range(self.N)) == float(self.b[0]),\n",
    "            name=\"eq_sum\"\n",
    "        )\n",
    "\n",
    "        # ——— 2) 风险约束 |risk_f' x| <= risk_abs\n",
    "        expr_r = gp.quicksum(self.risk_f[i] * x[i] for i in range(self.N))\n",
    "        m.addConstr(expr_r <= float(self.risk_abs), name=\"risk_ub\")\n",
    "        m.addConstr(expr_r >= -float(self.risk_abs), name=\"risk_lb\")\n",
    "\n",
    "        # ——— 3) 单项绝对值约束 |x_i| <= single_abs\n",
    "        for i in range(self.N):\n",
    "            m.addConstr(x[i] <=  float(self.single_abs),  name=f\"single_ub_{i}\")\n",
    "            m.addConstr(x[i] >= -float(self.single_abs), name=f\"single_lb_{i}\")\n",
    "\n",
    "        # ——— 4) L1 约束 ∑|x_i| <= l1_abs\n",
    "        #   实现方式： t[i] >=  x[i], t[i] >= -x[i], 然后 ∑ t[i] <= l1_abs\n",
    "        for i in range(self.N):\n",
    "            m.addConstr(t[i] >=  x[i], name=f\"t_pos_{i}\")\n",
    "            m.addConstr(t[i] >= -x[i], name=f\"t_neg_{i}\")\n",
    "        m.addConstr(t.sum() <= float(self.l1_abs), name=\"l1_norm\")\n",
    "\n",
    "        # ——— 5) 二次型约束 x' * cov_matrix * x <= sigma_abs\n",
    "        #     向量化写法： x_vec @ cov_matrix @ x_vec\n",
    "        x_vec = np.array([x[i] for i in range(self.N)])\n",
    "        expr_q = x_vec @ self.cov_matrix @ x_vec\n",
    "        m.addQConstr(expr_q <= float(self.sigma_abs), name=\"sigma_qc\")\n",
    "\n",
    "        return m, x\n",
    "    \n",
    "# Create an instance of the market neutral model for testing\n",
    "market_neutral_model = MarketNeutralGrbModel(\n",
    "    N, A, b, l, u, minimize=False,\n",
    "    risk_f=risk_f, risk_abs=risk_abs,\n",
    "    single_abs=single_abs, l1_abs=l1_abs,\n",
    "    cov_matrix=cov_matrix, sigma_abs=sigma_abs\n",
    ")\n",
    "\n",
    "# Optionally, you can test the model here\n",
    "# c_test = np.random.rand(N)\n",
    "# market_neutral_model.setObj(c_test)\n",
    "# sol = market_neutral_model.solve()\n",
    "# print(f\"Test solution objective value: {market_neutral_model.getObjVal()}\")\n",
    "\n",
    "# Create datasets\n",
    "dataset_train = optDataset(market_neutral_model, x_train, c_train)\n",
    "dataset_test = optDataset(market_neutral_model, x_test, c_test)"
   ]
  },
  {
   "cell_type": "code",
   "execution_count": 7,
   "id": "e437c18d",
   "metadata": {},
   "outputs": [],
   "source": [
    "#############################################################################\n",
    "# DATA LOADERS WITH PREFETCHING\n",
    "#############################################################################\n",
    "from torch.utils.data import DataLoader\n",
    "# Find optimal batch size based on GPU memory\n",
    "# Start with a reasonable default\n",
    "batch_size = 8  \n",
    "\n",
    "generator = torch.Generator()\n",
    "generator.manual_seed(42)\n",
    "\n",
    "# Configure data loaders with prefetching\n",
    "loader_train = DataLoader(\n",
    "    dataset_train, \n",
    "    batch_size=batch_size, \n",
    "    shuffle=True,\n",
    "    generator=generator # 固定data loader的生成器 - 用于对比MLP & MLP_Forloop\n",
    "    # pin_memory=True,  # Speed up host to GPU transfers\n",
    "    # num_workers=2,    # Prefetch in parallel\n",
    "    # persistent_workers=True  # Keep workers alive between epochs\n",
    ")\n",
    "\n",
    "loader_test = DataLoader(\n",
    "    dataset_test, \n",
    "    batch_size=batch_size, \n",
    "    shuffle=False,\n",
    "    # pin_memory=True,\n",
    "    # num_workers=1\n",
    ")\n",
    "\n",
    "# move loader to device for logging regret\n",
    "def device_loader(loader, device):\n",
    "    for batch in loader:\n",
    "        x, c, w, z = batch\n",
    "        yield x.to(device), c.to(device), w.to(device), z.to(device)"
   ]
  },
  {
   "cell_type": "markdown",
   "id": "a3dd7584",
   "metadata": {},
   "source": [
    "## 预测模型"
   ]
  },
  {
   "cell_type": "code",
   "execution_count": 14,
   "id": "d34d2fe1",
   "metadata": {},
   "outputs": [
    {
     "name": "stdout",
     "output_type": "stream",
     "text": [
      "Model architecture:\n",
      "batch_norm.weight    | Shape: torch.Size([5]) | Parameters: 5 | require_Grad: True\n",
      "Value: tensor([1., 1., 1., 1., 1.], device='mps:0') | Grad: None\n",
      "batch_norm.bias      | Shape: torch.Size([5]) | Parameters: 5 | require_Grad: True\n",
      "Value: tensor([0., 0., 0., 0., 0.], device='mps:0') | Grad: None\n",
      "linear.weight        | Shape: torch.Size([1, 5]) | Parameters: 5 | require_Grad: True\n",
      "Value: tensor([[-0.1044, -0.4445, -0.5228,  0.7091,  0.3619]], device='mps:0') | Grad: None\n",
      "linear.bias          | Shape: torch.Size([1]) | Parameters: 1 | require_Grad: True\n",
      "Value: tensor([0.], device='mps:0') | Grad: None\n",
      "Total parameters: 16\n"
     ]
    }
   ],
   "source": [
    "#############################################################################\n",
    "# PREDICTION MODEL\n",
    "#############################################################################\n",
    "from torch import nn\n",
    "import torch\n",
    "# torch.manual_seed(42)  \n",
    "\n",
    "\n",
    "class EnhancedLinearRegression(nn.Module):\n",
    "    \"\"\"\n",
    "    Enhanced linear regression model with batch normalization\n",
    "    for improved training stability\n",
    "    \"\"\"\n",
    "    def __init__(self, k: int, dropout_rate=0.0):\n",
    "        super().__init__()\n",
    "        # Feature normalization\n",
    "        self.batch_norm = nn.BatchNorm1d(k)\n",
    "        # Optional dropout for regularization\n",
    "        self.dropout = nn.Dropout(dropout_rate) if dropout_rate > 0 else None\n",
    "        # Linear layer - maps k features to 1 output\n",
    "        self.linear = nn.Linear(in_features=k, out_features=1)\n",
    "        \n",
    "        # Initialize weights properly\n",
    "        nn.init.xavier_normal_(self.linear.weight)\n",
    "        nn.init.zeros_(self.linear.bias)\n",
    "\n",
    "    def forward(self, x):\n",
    "        # x: (batch_size, N, k) -> reshape for batch norm\n",
    "        batch_size, N, k = x.shape\n",
    "        x_reshaped = x.reshape(-1, k)  # (batch_size*N, k)\n",
    "        \n",
    "        # Apply batch normalization\n",
    "        x_normalized = self.batch_norm(x_reshaped)\n",
    "        \n",
    "        # Apply dropout if enabled\n",
    "        if self.dropout is not None:\n",
    "            x_normalized = self.dropout(x_normalized)\n",
    "            \n",
    "        # Apply linear layer\n",
    "        output = self.linear(x_normalized)  # (batch_size*N, 1)\n",
    "        \n",
    "        # Reshape back to original dimensions\n",
    "        output = output.reshape(batch_size, N)  # (batch_size, N)\n",
    "        \n",
    "        return output\n",
    "\n",
    "# Initialize model and move to GPU\n",
    "reg = EnhancedLinearRegression(k=k, dropout_rate=0.1).to(device)\n",
    "\n",
    "# Print model summary\n",
    "print(\"Model architecture:\")\n",
    "for name, param in reg.named_parameters():\n",
    "    print(f\"{name:20s} | Shape: {param.data.shape} | Parameters: {param.numel()} | require_Grad: {param.requires_grad}\")\n",
    "    # print  and param.grad\n",
    "    print(f\"Value: {param.data} | Grad: {param.grad}\")\n",
    "    \n",
    "    \n",
    "print(f\"Total parameters: {sum(p.numel() for p in reg.parameters())}\")\n"
   ]
  },
  {
   "cell_type": "code",
   "execution_count": 18,
   "id": "1c504675",
   "metadata": {},
   "outputs": [
    {
     "name": "stdout",
     "output_type": "stream",
     "text": [
      "Model architecture:\n",
      "batch_norm.weight    | Shape: torch.Size([5]) | Parameters: 5 | require_Grad: True\n",
      "Mean Value: 1.0 | Grad: None\n",
      "batch_norm.bias      | Shape: torch.Size([5]) | Parameters: 5 | require_Grad: True\n",
      "Mean Value: 0.0 | Grad: None\n",
      "fc1.weight           | Shape: torch.Size([32, 5]) | Parameters: 160 | require_Grad: True\n",
      "Mean Value: 0.010149108245968819 | Grad: None\n",
      "fc1.bias             | Shape: torch.Size([32]) | Parameters: 32 | require_Grad: True\n",
      "Mean Value: 0.0 | Grad: None\n",
      "fc2.weight           | Shape: torch.Size([1, 32]) | Parameters: 32 | require_Grad: True\n",
      "Mean Value: 0.013554740697145462 | Grad: None\n",
      "fc2.bias             | Shape: torch.Size([1]) | Parameters: 1 | require_Grad: True\n",
      "Mean Value: 0.0 | Grad: None\n"
     ]
    },
    {
     "name": "stderr",
     "output_type": "stream",
     "text": [
      "/var/folders/gz/20943px51778bvz4gc4xcdj00000gn/T/ipykernel_1446/2483201312.py:23: FutureWarning: `nn.init.xavier_normal` is now deprecated in favor of `nn.init.xavier_normal_`.\n",
      "  nn.init.xavier_normal(self.fc1.weight)\n",
      "/var/folders/gz/20943px51778bvz4gc4xcdj00000gn/T/ipykernel_1446/2483201312.py:25: FutureWarning: `nn.init.xavier_normal` is now deprecated in favor of `nn.init.xavier_normal_`.\n",
      "  nn.init.xavier_normal(self.fc2.weight)\n"
     ]
    }
   ],
   "source": [
    "class TwoLayerMLP(nn.Module):\n",
    "    \"\"\"\n",
    "    Two-layer MLP model with batch normalization and optional dropout\n",
    "    \"\"\"\n",
    "    def __init__(self, k: int, hidden_dim: int=32, dropout_rate=0.0):\n",
    "        super().__init__()\n",
    "        # Feature normalization\n",
    "        self.batch_norm = nn.BatchNorm1d(k)\n",
    "        \n",
    "        # First layer: k -> hidden_dim\n",
    "        self.fc1 = nn.Linear(k, hidden_dim)\n",
    "        \n",
    "        # Second layer: hidden_dim -> 1\n",
    "        self.fc2 = nn.Linear(hidden_dim, 1)\n",
    "        \n",
    "        # Activation function\n",
    "        self.activation = nn.ReLU()\n",
    "        \n",
    "        # Optional dropout for regularization\n",
    "        self.dropout = nn.Dropout(dropout_rate) if dropout_rate > 0 else None\n",
    "        \n",
    "        # Initialize weights properly\n",
    "        nn.init.xavier_normal(self.fc1.weight)\n",
    "        nn.init.zeros_(self.fc1.bias)\n",
    "        nn.init.xavier_normal(self.fc2.weight)\n",
    "        nn.init.zeros_(self.fc2.bias)\n",
    "    \n",
    "    def forward(self, x):\n",
    "        # x: (batch_size, N, k) -> reshape for batch norm\n",
    "        batch_size, N, k = x.shape\n",
    "        x_reshaped = x.reshape(-1, k) # (batch_size*N, k)\n",
    "        \n",
    "        # Apply batch normalization\n",
    "        x_normalized = self.batch_norm(x_reshaped)\n",
    "        \n",
    "        # First linear layer + activation\n",
    "        x_hidden = self.fc1(x_normalized)\n",
    "        x_hidden = self.activation(x_hidden)\n",
    "        \n",
    "        # Optional dropout \n",
    "        if self.dropout is not None:\n",
    "            x_hidden = self.dropout(x_hidden)\n",
    "        \n",
    "        # Second linear layer (output)\n",
    "        output = self.fc2(x_hidden) # (batch_size*N, 1)\n",
    "        \n",
    "        # Reshape back to (batch_size, N)\n",
    "        output = output.reshape(batch_size, N)\n",
    "        \n",
    "        return output\n",
    "    \n",
    "\n",
    "# Initialize model and move to gpu\n",
    "mlp = TwoLayerMLP(k=k, hidden_dim=32, dropout_rate=0.0).to(device)\n",
    "\n",
    "# Print model summary\n",
    "print(\"Model architecture:\")\n",
    "for name, param in mlp.named_parameters():\n",
    "    print(f\"{name:20s} | Shape: {param.data.shape} | Parameters: {param.numel()} | require_Grad: {param.requires_grad}\")\n",
    "    # print  and param.grad\n",
    "    print(f\"Mean Value: {param.data.mean()} | Grad: {param.grad}\")"
   ]
  },
  {
   "cell_type": "code",
   "execution_count": 19,
   "id": "bb92665e",
   "metadata": {},
   "outputs": [
    {
     "name": "stdout",
     "output_type": "stream",
     "text": [
      "Model architecture:\n",
      "batch_norm.weight    | Shape: torch.Size([5]) | Parameters: 5 | require_Grad: True\n",
      "Mean Value: 1.0 | Grad: None\n",
      "batch_norm.bias      | Shape: torch.Size([5]) | Parameters: 5 | require_Grad: True\n",
      "Mean Value: 0.0 | Grad: None\n",
      "fc1.weight           | Shape: torch.Size([32, 5]) | Parameters: 160 | require_Grad: True\n",
      "Mean Value: 0.010149108245968819 | Grad: None\n",
      "fc1.bias             | Shape: torch.Size([32]) | Parameters: 32 | require_Grad: True\n",
      "Mean Value: 0.0 | Grad: None\n",
      "fc2.weight           | Shape: torch.Size([1, 32]) | Parameters: 32 | require_Grad: True\n",
      "Mean Value: 0.013554740697145462 | Grad: None\n",
      "fc2.bias             | Shape: torch.Size([1]) | Parameters: 1 | require_Grad: True\n",
      "Mean Value: 0.0 | Grad: None\n"
     ]
    },
    {
     "name": "stderr",
     "output_type": "stream",
     "text": [
      "/var/folders/gz/20943px51778bvz4gc4xcdj00000gn/T/ipykernel_1446/2483201312.py:23: FutureWarning: `nn.init.xavier_normal` is now deprecated in favor of `nn.init.xavier_normal_`.\n",
      "  nn.init.xavier_normal(self.fc1.weight)\n",
      "/var/folders/gz/20943px51778bvz4gc4xcdj00000gn/T/ipykernel_1446/2483201312.py:25: FutureWarning: `nn.init.xavier_normal` is now deprecated in favor of `nn.init.xavier_normal_`.\n",
      "  nn.init.xavier_normal(self.fc2.weight)\n"
     ]
    }
   ],
   "source": [
    "class TwoLayerMLPForloop(TwoLayerMLP):\n",
    "    \"\"\"\n",
    "    Same structure as TwoLayerMLP, but manually apply forward pass one by one\n",
    "    \"\"\"\n",
    "    def forward(self, x):\n",
    "        batch_size, N, k = x.shape\n",
    "        outputs = []\n",
    "        # (1) BatchNorm\n",
    "        x_norm = self.batch_norm(x.reshape(-1, k)).reshape(batch_size, N, k)\n",
    "\n",
    "        for t in range(batch_size):\n",
    "            for n in range(N):\n",
    "                x_single = x_norm[t, n, :]  # shape (k,)\n",
    "\n",
    "                # (2) First linear layer + activation\n",
    "                x_hidden = self.activation(self.fc1(x_single))  # (1, hidden_dim)\n",
    "            \n",
    "                # (3) Optional dropout\n",
    "                if self.dropout is not None:\n",
    "                    x_hidden = self.dropout(x_hidden)\n",
    "\n",
    "                # (4) Second linear layer (output)\n",
    "                x_out = self.fc2(x_hidden)  # (1, 1)\n",
    "\n",
    "                outputs.append(x_out.squeeze())  # squeeze to scalar\n",
    "        \n",
    "        # Collect all outputs\n",
    "        outputs = torch.stack(outputs)  # shape (batch_size * N,)\n",
    "        outputs = outputs.view(batch_size, N)  # reshape back\n",
    "        return outputs\n",
    "    \n",
    "# Initialize model and move to gpu\n",
    "mlp_fl = TwoLayerMLPForloop(k=k, hidden_dim=32, dropout_rate=0.0).to(device)\n",
    "mlp_fl.load_state_dict(mlp.state_dict()) # 保证两个版本下参数初始化一致\n",
    "\n",
    "# Print model summary\n",
    "print(\"Model architecture:\")\n",
    "for name, param in mlp_fl.named_parameters():\n",
    "    print(f\"{name:20s} | Shape: {param.data.shape} | Parameters: {param.numel()} | require_Grad: {param.requires_grad}\")\n",
    "    # print  and param.grad\n",
    "    print(f\"Mean Value: {param.data.mean()} | Grad: {param.grad}\")"
   ]
  },
  {
   "cell_type": "markdown",
   "id": "37d342f1",
   "metadata": {},
   "source": [
    "## 训练函数"
   ]
  },
  {
   "cell_type": "code",
   "execution_count": 20,
   "id": "64bd61dc",
   "metadata": {},
   "outputs": [
    {
     "name": "stdout",
     "output_type": "stream",
     "text": [
      "\n",
      "Initializing SPO+ loss function...\n",
      "Num of cores: 1\n"
     ]
    }
   ],
   "source": [
    "#############################################################################\n",
    "# TRAINING WITH MIXED PRECISION\n",
    "#############################################################################\n",
    "import time\n",
    "from torch.amp import GradScaler, autocast\n",
    "import pyepo\n",
    "\n",
    "def trainModel(model, loss_func, method_name, num_epochs=5, lr=1e-3):\n",
    "    \"\"\"\n",
    "    Enhanced training function with:\n",
    "    - Mixed precision for faster GPU training\n",
    "    - Learning rate scheduling\n",
    "    - Progress bars\n",
    "    - Detailed logging\n",
    "    - Memory-efficient tensor handling\n",
    "    \"\"\"\n",
    "    # Set up optimizer with weight decay for regularization\n",
    "    optimizer = torch.optim.AdamW(model.parameters(), lr=lr, weight_decay=1e-4)\n",
    "    \n",
    "    # Learning rate scheduler for better convergence\n",
    "    scheduler = torch.optim.lr_scheduler.ReduceLROnPlateau(\n",
    "        optimizer, mode='min', factor=0.5, patience=1\n",
    "    )\n",
    "    \n",
    "    # Enable mixed precision training\n",
    "    scaler = GradScaler(enabled=(device.type in [\"cuda\", \"mps\"]))\n",
    "\n",
    "    # Set model to training mode\n",
    "    model.train()\n",
    "    \n",
    "    # Initialize logs\n",
    "    loss_log = []\n",
    "    # evaluate loss on whole test data\n",
    "    loss_log_regret = [pyepo.metric.regret(model, market_neutral_model, device_loader(loader_test, device))]\n",
    "    print(f\"Initial regret: {loss_log_regret[0]*100:.4f}%\")\n",
    "    \n",
    "    # Initialize elapsed time tracking\n",
    "    training_start = time.time()\n",
    "    total_elapsed = 0\n",
    "    \n",
    "    # Verbosity control - set to false for production\n",
    "    debug_mode = False\n",
    "    log_interval = 10  # Log every N batches\n",
    "    \n",
    "    for epoch in range(num_epochs):\n",
    "        epoch_loss = 0.0\n",
    "        epoch_start = time.time()\n",
    "        \n",
    "        # Progress bar for this epoch\n",
    "        progress_bar = tqdm(loader_train, desc=f\"Epoch {epoch+1}/{num_epochs}\")\n",
    "        \n",
    "        for i, data in enumerate(progress_bar):\n",
    "            x, c, w, z = data\n",
    "            \n",
    "            # Move data to GPU (once, not in every batch)\n",
    "            x, c, w, z = x.to(device), c.to(device), w.to(device), z.to(device)\n",
    "            \n",
    "            # Record batch start time for accurate timing\n",
    "            batch_start = time.time()\n",
    "            \n",
    "            # Clear gradients for each batch\n",
    "            optimizer.zero_grad()\n",
    "            \n",
    "            # Use mixed precision where appropriate\n",
    "            with autocast(device_type=device.type, enabled=(device.type in [\"cuda\", \"mps\"])):\n",
    "                # Forward pass\n",
    "                cp = model(x)\n",
    "                \n",
    "                # Compute loss based on method\n",
    "                if method_name == \"spo+\":\n",
    "                    loss = loss_func(cp, c, w, z)\n",
    "                elif method_name in [\"ptb\", \"pfy\", \"imle\", \"aimle\", \"nce\", \"cmap\"]:\n",
    "                    loss = loss_func(cp, w)\n",
    "                elif method_name in [\"dbb\", \"nid\"]:\n",
    "                    loss = loss_func(cp, c, z)\n",
    "                elif method_name in [\"pg\", \"ltr\"]:\n",
    "                    loss = loss_func(cp, c)\n",
    "            \n",
    "            # Backward pass with mixed precision handling\n",
    "            if scaler is not None:\n",
    "                scaler.scale(loss).backward()\n",
    "                scaler.step(optimizer)\n",
    "                scaler.update()\n",
    "            else:\n",
    "                loss.backward()\n",
    "                optimizer.step()\n",
    "            \n",
    "            # Track batch elapsed time\n",
    "            batch_elapsed = time.time() - batch_start\n",
    "            total_elapsed += batch_elapsed\n",
    "            \n",
    "            # Update loss tracking\n",
    "            current_loss = loss.item()\n",
    "            epoch_loss += current_loss\n",
    "            loss_log.append(current_loss)\n",
    "            \n",
    "            # Update progress bar\n",
    "            progress_bar.set_postfix({\n",
    "                'loss': f\"{current_loss:.4f}\", \n",
    "                'batch time': f\"{batch_elapsed:.4f}s\"\n",
    "            })\n",
    "            \n",
    "            # Debug logging (limited to avoid overwhelming output)\n",
    "            if debug_mode and i % log_interval == 0:\n",
    "                print(f\"\\n[Debug] Batch {i} stats:\")\n",
    "                print(f\"Loss: {current_loss:.6f}\")\n",
    "                print(f\"Pred shape: {cp.shape}, values: {cp[0,:5].detach().cpu().numpy()}\")\n",
    "                \n",
    "                # Monitor memory usage\n",
    "                if device.type == 'cuda':\n",
    "                    mem_allocated = torch.cuda.memory_allocated() / 1024**2\n",
    "                    mem_reserved = torch.cuda.memory_reserved() / 1024**2\n",
    "                    print(f\"GPU Memory: {mem_allocated:.1f}MB allocated, {mem_reserved:.1f}MB reserved\")\n",
    "        \n",
    "        # Compute regret on test set after each epoch\n",
    "        with torch.no_grad():\n",
    "            model.eval()  # Set model to evaluation mode\n",
    "            regret = pyepo.metric.regret(model, market_neutral_model, device_loader(loader_test, device))\n",
    "            model.train()  # Set back to training mode\n",
    "            loss_log_regret.append(regret)\n",
    "        \n",
    "        # Update learning rate scheduler\n",
    "        scheduler.step(epoch_loss)\n",
    "        \n",
    "        # End of epoch reporting\n",
    "        epoch_time = time.time() - epoch_start\n",
    "        print(f\"Epoch {epoch+1}: Loss={epoch_loss/len(loader_train):.6f}, \"\n",
    "              f\"Regret={regret*100:.4f}%, Time={epoch_time:.2f}s\")\n",
    "    \n",
    "    # Report total training time\n",
    "    total_training_time = time.time() - training_start\n",
    "    print(f\"Total training time: {total_training_time:.2f}s, \"\n",
    "          f\"Effective computation time: {total_elapsed:.2f}s\")\n",
    "    \n",
    "    return loss_log, loss_log_regret\n",
    "\n",
    "#############################################################################\n",
    "# TRAINING EXECUTION \n",
    "#############################################################################\n",
    "print(\"\\nInitializing SPO+ loss function...\")\n",
    "spop = pyepo.func.SPOPlus(market_neutral_model)"
   ]
  },
  {
   "cell_type": "code",
   "execution_count": 21,
   "id": "fec15705",
   "metadata": {},
   "outputs": [
    {
     "name": "stdout",
     "output_type": "stream",
     "text": [
      "\n",
      "Starting model training...\n"
     ]
    },
    {
     "name": "stderr",
     "output_type": "stream",
     "text": [
      "/Users/tarothousand/Library/Python/3.11/lib/python/site-packages/torch/amp/grad_scaler.py:136: UserWarning: torch.cuda.amp.GradScaler is enabled, but CUDA is not available.  Disabling.\n",
      "  warnings.warn(\n"
     ]
    },
    {
     "name": "stdout",
     "output_type": "stream",
     "text": [
      "Initial regret: 99.6509%\n"
     ]
    },
    {
     "name": "stderr",
     "output_type": "stream",
     "text": [
      "Epoch 1/5: 100%|██████████| 7/7 [00:00<00:00, 10.55it/s, loss=3.3958, batch time=0.0321s]\n"
     ]
    },
    {
     "name": "stdout",
     "output_type": "stream",
     "text": [
      "Epoch 1: Loss=3.180035, Regret=99.6707%, Time=1.38s\n"
     ]
    },
    {
     "name": "stderr",
     "output_type": "stream",
     "text": [
      "Epoch 2/5: 100%|██████████| 7/7 [00:00<00:00, 11.78it/s, loss=2.7424, batch time=0.0303s]\n"
     ]
    },
    {
     "name": "stdout",
     "output_type": "stream",
     "text": [
      "Epoch 2: Loss=3.014988, Regret=99.9285%, Time=1.31s\n"
     ]
    },
    {
     "name": "stderr",
     "output_type": "stream",
     "text": [
      "Epoch 3/5: 100%|██████████| 7/7 [00:00<00:00, 12.11it/s, loss=3.1200, batch time=0.0288s]\n"
     ]
    },
    {
     "name": "stdout",
     "output_type": "stream",
     "text": [
      "Epoch 3: Loss=2.974905, Regret=100.0568%, Time=1.29s\n"
     ]
    },
    {
     "name": "stderr",
     "output_type": "stream",
     "text": [
      "Epoch 4/5: 100%|██████████| 7/7 [00:00<00:00, 11.29it/s, loss=3.0307, batch time=0.0290s]\n"
     ]
    },
    {
     "name": "stdout",
     "output_type": "stream",
     "text": [
      "Epoch 4: Loss=2.911039, Regret=99.9533%, Time=1.37s\n"
     ]
    },
    {
     "name": "stderr",
     "output_type": "stream",
     "text": [
      "Epoch 5/5: 100%|██████████| 7/7 [00:00<00:00, 11.35it/s, loss=2.7633, batch time=0.0302s]\n"
     ]
    },
    {
     "name": "stdout",
     "output_type": "stream",
     "text": [
      "Epoch 5: Loss=2.840235, Regret=99.8538%, Time=1.33s\n",
      "Total training time: 6.69s, Effective computation time: 2.95s\n",
      "Initial regret: 99.6511%\n"
     ]
    },
    {
     "name": "stderr",
     "output_type": "stream",
     "text": [
      "Epoch 1/5: 100%|██████████| 7/7 [00:06<00:00,  1.01it/s, loss=3.3122, batch time=0.2764s]\n"
     ]
    },
    {
     "name": "stdout",
     "output_type": "stream",
     "text": [
      "Epoch 1: Loss=3.169526, Regret=99.6888%, Time=9.66s\n"
     ]
    },
    {
     "name": "stderr",
     "output_type": "stream",
     "text": [
      "Epoch 2/5: 100%|██████████| 7/7 [00:06<00:00,  1.02it/s, loss=2.8746, batch time=0.2788s]\n"
     ]
    },
    {
     "name": "stdout",
     "output_type": "stream",
     "text": [
      "Epoch 2: Loss=3.023909, Regret=99.8877%, Time=9.50s\n"
     ]
    },
    {
     "name": "stderr",
     "output_type": "stream",
     "text": [
      "Epoch 3/5: 100%|██████████| 7/7 [00:06<00:00,  1.01it/s, loss=3.1885, batch time=0.2877s]\n"
     ]
    },
    {
     "name": "stdout",
     "output_type": "stream",
     "text": [
      "Epoch 3: Loss=2.981236, Regret=100.0980%, Time=9.59s\n"
     ]
    },
    {
     "name": "stderr",
     "output_type": "stream",
     "text": [
      "Epoch 4/5: 100%|██████████| 7/7 [00:06<00:00,  1.01it/s, loss=2.7150, batch time=0.2855s]\n"
     ]
    },
    {
     "name": "stdout",
     "output_type": "stream",
     "text": [
      "Epoch 4: Loss=2.872137, Regret=99.9955%, Time=9.57s\n"
     ]
    },
    {
     "name": "stderr",
     "output_type": "stream",
     "text": [
      "Epoch 5/5: 100%|██████████| 7/7 [00:06<00:00,  1.03it/s, loss=2.9831, batch time=0.2788s]\n"
     ]
    },
    {
     "name": "stdout",
     "output_type": "stream",
     "text": [
      "Epoch 5: Loss=2.859857, Regret=99.8124%, Time=9.48s\n",
      "Total training time: 47.81s, Effective computation time: 34.30s\n"
     ]
    }
   ],
   "source": [
    "print(\"\\nStarting model training...\")\n",
    "loss_log, loss_log_regret = trainModel(\n",
    "    mlp, \n",
    "    loss_func=spop, \n",
    "    method_name=\"spo+\",\n",
    "    num_epochs=5,  # Increased for better convergence\n",
    "    lr=1e-3        # Adjusted learning rate\n",
    ")\n",
    "\n",
    "loss_log_fl, loss_log_regret_fl = trainModel(\n",
    "    mlp_fl, \n",
    "    loss_func=spop, \n",
    "    method_name=\"spo+\",\n",
    "    num_epochs=5,  # Increased for better convergence\n",
    "    lr=1e-3        # Adjusted learning rate\n",
    ")"
   ]
  },
  {
   "cell_type": "markdown",
   "id": "613b03c0",
   "metadata": {},
   "source": [
    "## 可视化 loss "
   ]
  },
  {
   "cell_type": "code",
   "execution_count": 22,
   "id": "00ef6412",
   "metadata": {},
   "outputs": [
    {
     "name": "stdout",
     "output_type": "stream",
     "text": [
      "\n",
      "Visualizing learning curves...\n"
     ]
    },
    {
     "data": {
      "image/png": "[encoded data removed]",
      "text/plain": [
       "<Figure size 1600x400 with 2 Axes>"
      ]
     },
     "metadata": {},
     "output_type": "display_data"
    },
    {
     "data": {
      "image/png": "[encoded data removed]",
      "text/plain": [
       "<Figure size 1600x400 with 2 Axes>"
      ]
     },
     "metadata": {},
     "output_type": "display_data"
    }
   ],
   "source": [
    "#############################################################################\n",
    "# VISUALIZATION\n",
    "#############################################################################\n",
    "from matplotlib import pyplot as plt\n",
    "\n",
    "def visLearningCurve(loss_log, loss_log_regret):\n",
    "    \"\"\"Enhanced visualization with smoother curves and more information\"\"\"\n",
    "    # Create figure and subplots\n",
    "    fig, (ax1, ax2) = plt.subplots(1, 2, figsize=(16,4))\n",
    "    \n",
    "    # Plot training loss with smoothing for readability\n",
    "    n_points = len(loss_log)\n",
    "    \n",
    "    # Apply smoothing for large datasets\n",
    "    if n_points > 100:\n",
    "        window_size = max(10, n_points // 50)\n",
    "        smoothed_loss = np.convolve(loss_log, np.ones(window_size)/window_size, mode='valid')\n",
    "        x_axis = np.arange(len(smoothed_loss))\n",
    "        ax1.plot(x_axis, smoothed_loss, color=\"c\", lw=2, label=f\"Smoothed (window={window_size})\")\n",
    "        # Also plot the raw data with transparency\n",
    "        ax1.plot(loss_log, color=\"c\", lw=0.5, alpha=0.3, label=\"Raw\")\n",
    "        ax1.legend()\n",
    "    else:\n",
    "        # For smaller datasets, just plot the raw data\n",
    "        ax1.plot(loss_log, color=\"c\", lw=2)\n",
    "    \n",
    "    ax1.tick_params(axis=\"both\", which=\"major\", labelsize=12)\n",
    "    ax1.set_xlabel(\"Iterations\", fontsize=16)\n",
    "    ax1.set_ylabel(\"Loss\", fontsize=16)\n",
    "    ax1.set_title(\"Learning Curve on Training Set\", fontsize=16)\n",
    "    ax1.grid(True, linestyle='--', alpha=0.7)\n",
    "    \n",
    "    # Draw plot for regret on test set\n",
    "    epochs = np.arange(len(loss_log_regret))\n",
    "    ax2.plot(epochs, [r*100 for r in loss_log_regret], \n",
    "             color=\"royalblue\", marker='o', ls=\"-\", alpha=0.8, lw=2)\n",
    "    \n",
    "    ax2.tick_params(axis=\"both\", which=\"major\", labelsize=12)\n",
    "    ax2.set_ylim(0, max(50, max([r*100 for r in loss_log_regret])*1.1))  # Dynamic y-limit\n",
    "    ax2.set_xlabel(\"Epochs\", fontsize=16)\n",
    "    ax2.set_ylabel(\"Regret (%)\", fontsize=16)\n",
    "    ax2.set_title(\"Learning Curve on Test Set\", fontsize=16)\n",
    "    ax2.grid(True, linestyle='--', alpha=0.7)\n",
    "    \n",
    "    # Add values to points\n",
    "    for i, r in enumerate(loss_log_regret):\n",
    "        ax2.annotate(f\"{r*100:.2f}%\", \n",
    "                     (i, r*100),\n",
    "                     textcoords=\"offset points\", \n",
    "                     xytext=(0,10), \n",
    "                     ha='center')\n",
    "    \n",
    "    plt.tight_layout()\n",
    "    # plt.savefig('learning_curves.png', dpi=300, bbox_inches='tight')\n",
    "    # print(\"Saved learning curves to 'learning_curves.png'\")\n",
    "    plt.show()\n",
    "\n",
    "print(\"\\nVisualizing learning curves...\")\n",
    "visLearningCurve(loss_log, loss_log_regret)\n",
    "visLearningCurve(loss_log_fl, loss_log_regret_fl)"
   ]
  }
 ],
 "metadata": {
  "kernelspec": {
   "display_name": "Python 3",
   "language": "python",
   "name": "python3"
  },
  "language_info": {
   "codemirror_mode": {
    "name": "ipython",
    "version": 3
   },
   "file_extension": ".py",
   "mimetype": "text/x-python",
   "name": "python",
   "nbconvert_exporter": "python",
   "pygments_lexer": "ipython3",
   "version": "3.11.4"
  }
 },
 "nbformat": 4,
 "nbformat_minor": 5
}
